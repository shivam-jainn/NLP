{
 "cells": [
  {
   "cell_type": "code",
   "execution_count": 64,
   "metadata": {},
   "outputs": [
    {
     "name": "stdout",
     "output_type": "stream",
     "text": [
      "entering\n",
      "defining\n",
      "text file contains 2 -ing- words \n"
     ]
    }
   ],
   "source": [
    "textFile = open('./input.txt',\"r\")\n",
    "\n",
    "NoOfIng = 0\n",
    "\n",
    "for line in textFile:\n",
    "    for word in  line.split(\" \"):\n",
    "        if(word.endswith('ing') or word.endswith('ing.')):\n",
    "            NoOfIng+=1\n",
    "            print(word)\n",
    "\n",
    "\n",
    "print(f'text file contains {NoOfIng} -ing- words ')\n",
    "\n"
   ]
  },
  {
   "cell_type": "code",
   "execution_count": 65,
   "metadata": {},
   "outputs": [
    {
     "name": "stdout",
     "output_type": "stream",
     "text": [
      "['i', 'me', 'my', 'myself', 'we', 'our', 'ours', 'ourselves', 'you', \"you're\", \"you've\", \"you'll\", \"you'd\", 'your', 'yours', 'yourself', 'yourselves', 'he', 'him', 'his', 'himself', 'she', \"she's\", 'her', 'hers', 'herself', 'it', \"it's\", 'its', 'itself', 'they', 'them', 'their', 'theirs', 'themselves', 'what', 'which', 'who', 'whom', 'this', 'that', \"that'll\", 'these', 'those', 'am', 'is', 'are', 'was', 'were', 'be', 'been', 'being', 'have', 'has', 'had', 'having', 'do', 'does', 'did', 'doing', 'a', 'an', 'the', 'and', 'but', 'if', 'or', 'because', 'as', 'until', 'while', 'of', 'at', 'by', 'for', 'with', 'about', 'against', 'between', 'into', 'through', 'during', 'before', 'after', 'above', 'below', 'to', 'from', 'up', 'down', 'in', 'out', 'on', 'off', 'over', 'under', 'again', 'further', 'then', 'once', 'here', 'there', 'when', 'where', 'why', 'how', 'all', 'any', 'both', 'each', 'few', 'more', 'most', 'other', 'some', 'such', 'no', 'nor', 'not', 'only', 'own', 'same', 'so', 'than', 'too', 'very', 's', 't', 'can', 'will', 'just', 'don', \"don't\", 'should', \"should've\", 'now', 'd', 'll', 'm', 'o', 're', 've', 'y', 'ain', 'aren', \"aren't\", 'couldn', \"couldn't\", 'didn', \"didn't\", 'doesn', \"doesn't\", 'hadn', \"hadn't\", 'hasn', \"hasn't\", 'haven', \"haven't\", 'isn', \"isn't\", 'ma', 'mightn', \"mightn't\", 'mustn', \"mustn't\", 'needn', \"needn't\", 'shan', \"shan't\", 'shouldn', \"shouldn't\", 'wasn', \"wasn't\", 'weren', \"weren't\", 'won', \"won't\", 'wouldn', \"wouldn't\"]\n"
     ]
    }
   ],
   "source": [
    "from nltk.corpus import stopwords\n",
    "\n",
    "from nltk.corpus import stopwords\n",
    "from nltk.tokenize import word_tokenize\n",
    " \n",
    "print(stopwords.words('english'))\n",
    "\n",
    "\n"
   ]
  },
  {
   "cell_type": "code",
   "execution_count": 66,
   "metadata": {},
   "outputs": [],
   "source": [
    "# remove stopwords function\n",
    "\n",
    "\n",
    "def remove_stopwords(text):\n",
    "    stop_words = set(stopwords.words(\"english\"))\n",
    "    word_tokens = word_tokenize(text)\n",
    "    filtered_text = [word for word in word_tokens if word not in stop_words]\n",
    "    return filtered_text\n",
    "\n",
    "textFile = open('./input.txt',\"r\")\n",
    "\n",
    "final_tokens = []\n",
    "\n",
    "for line in textFile:\n",
    "    filtered_words = remove_stopwords(line)\n",
    "    for word in filtered_words:\n",
    "        final_tokens.append(word)\n"
   ]
  },
  {
   "cell_type": "code",
   "execution_count": 67,
   "metadata": {},
   "outputs": [],
   "source": [
    "# Removing punctuation\n",
    "import re\n",
    "\n",
    "final_tokens = [token for token in final_tokens if re.search(r\"[a-zA-Z0-9]+\", str(token))]\n",
    "\n",
    "\n"
   ]
  },
  {
   "cell_type": "code",
   "execution_count": 70,
   "metadata": {},
   "outputs": [
    {
     "name": "stdout",
     "output_type": "stream",
     "text": [
      "['the', 'circumst', 'i', 'meet', 'acquit', 'enter', 'subject', 'refer', 'great', 'constitut', 'charter', 'assembl', 'defin', 'power', 'design', 'object', 'attent', 'given']\n"
     ]
    }
   ],
   "source": [
    "# stemming and lemmitization\n",
    "from nltk.stem import SnowballStemmer \n",
    "\n",
    "stemmer = SnowballStemmer(\"english\")   \n",
    "\n",
    "stemmed_tokens = [stemmer.stem(token) for token in final_tokens ]\n",
    "\n",
    "# print(stemmed_tokens)\n",
    "\n",
    "\n",
    "import nltk\n",
    "from nltk.stem import WordNetLemmatizer\n",
    "\n",
    "lemmatizer = WordNetLemmatizer()   \n",
    "lemmatize_dict = {}\n",
    "lemmatized_token = [lemmatizer.lemmatize(stemmed_token) for stemmed_token in stemmed_tokens ]\n",
    "\n",
    "lemmatized_token_pos = [lemmatizer.lemmatize(token, pos = \"v\") for token in stemmed_tokens]\n",
    "print(lemmatized_token)\n",
    "# print(lemmatized_token_pos)\n",
    "\n"
   ]
  }
 ],
 "metadata": {
  "kernelspec": {
   "display_name": "Python 3",
   "language": "python",
   "name": "python3"
  },
  "language_info": {
   "codemirror_mode": {
    "name": "ipython",
    "version": 3
   },
   "file_extension": ".py",
   "mimetype": "text/x-python",
   "name": "python",
   "nbconvert_exporter": "python",
   "pygments_lexer": "ipython3",
   "version": "3.12.1"
  }
 },
 "nbformat": 4,
 "nbformat_minor": 2
}
